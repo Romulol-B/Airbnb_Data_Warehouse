{
 "cells": [
  {
   "cell_type": "markdown",
   "id": "0eeec67b",
   "metadata": {},
   "source": [
    "# download dos data sets."
   ]
  },
  {
   "cell_type": "code",
   "execution_count": 1,
   "id": "cfca09d7",
   "metadata": {},
   "outputs": [],
   "source": [
    "import gdown"
   ]
  },
  {
   "cell_type": "code",
   "execution_count": 2,
   "id": "b3de749e",
   "metadata": {},
   "outputs": [
    {
     "name": "stderr",
     "output_type": "stream",
     "text": [
      "c:\\Users\\romul\\Repositories\\datalumina-project-template\\Template-Demo\\.venv\\lib\\site-packages\\gdown\\parse_url.py:48: UserWarning: You specified a Google Drive link that is not the correct link to download a file. You might want to try `--fuzzy` option or the following url: https://drive.google.com/uc?id=None\n",
      "  warnings.warn(\n",
      "Downloading...\n",
      "From: https://drive.google.com/drive/folders/2NujfVRAGqoEx2L6qzQ6sTdD94f3jysum?usp=drive_link\n",
      "To: C:\\Users\\romul\\Repositories\\datalumina-project-template\\Template-Demo\\data\n",
      "1.67kB [00:00, 545kB/s]\n"
     ]
    },
    {
     "ename": "Error",
     "evalue": "Destination path 'C:/Users/romul/Repositories/datalumina-project-template/Template-Demo/data/5n1gg0ja.part' already exists",
     "output_type": "error",
     "traceback": [
      "\u001b[1;31m---------------------------------------------------------------------------\u001b[0m",
      "\u001b[1;31mError\u001b[0m                                     Traceback (most recent call last)",
      "Cell \u001b[1;32mIn[2], line 3\u001b[0m\n\u001b[0;32m      1\u001b[0m url_folder \u001b[38;5;241m=\u001b[39m \u001b[38;5;124m'\u001b[39m\u001b[38;5;124mhttps://drive.google.com/drive/folders/2NujfVRAGqoEx2L6qzQ6sTdD94f3jysum?usp=drive_link\u001b[39m\u001b[38;5;124m'\u001b[39m\n\u001b[0;32m      2\u001b[0m folder  \u001b[38;5;241m=\u001b[39m\u001b[38;5;124m'\u001b[39m\u001b[38;5;124mC:/Users/romul/Repositories/datalumina-project-template/Template-Demo/data/\u001b[39m\u001b[38;5;124m'\u001b[39m\n\u001b[1;32m----> 3\u001b[0m \u001b[43mgdown\u001b[49m\u001b[38;5;241;43m.\u001b[39;49m\u001b[43mdownload\u001b[49m\u001b[43m(\u001b[49m\u001b[43murl_folder\u001b[49m\u001b[43m,\u001b[49m\u001b[43m \u001b[49m\u001b[43mfolder\u001b[49m\u001b[43m,\u001b[49m\u001b[43m \u001b[49m\u001b[43mquiet\u001b[49m\u001b[38;5;241;43m=\u001b[39;49m\u001b[38;5;28;43;01mFalse\u001b[39;49;00m\u001b[43m)\u001b[49m\n",
      "File \u001b[1;32mc:\\Users\\romul\\Repositories\\datalumina-project-template\\Template-Demo\\.venv\\lib\\site-packages\\gdown\\download.py:381\u001b[0m, in \u001b[0;36mdownload\u001b[1;34m(url, output, quiet, proxy, speed, use_cookies, verify, id, fuzzy, resume, format, user_agent, log_messages)\u001b[0m\n\u001b[0;32m    379\u001b[0m \u001b[38;5;28;01mif\u001b[39;00m tmp_file:\n\u001b[0;32m    380\u001b[0m     f\u001b[38;5;241m.\u001b[39mclose()\n\u001b[1;32m--> 381\u001b[0m     \u001b[43mshutil\u001b[49m\u001b[38;5;241;43m.\u001b[39;49m\u001b[43mmove\u001b[49m\u001b[43m(\u001b[49m\u001b[43mtmp_file\u001b[49m\u001b[43m,\u001b[49m\u001b[43m \u001b[49m\u001b[43moutput\u001b[49m\u001b[43m)\u001b[49m\n\u001b[0;32m    382\u001b[0m \u001b[38;5;28;01mif\u001b[39;00m output_is_path \u001b[38;5;129;01mand\u001b[39;00m last_modified_time:\n\u001b[0;32m    383\u001b[0m     mtime \u001b[38;5;241m=\u001b[39m last_modified_time\u001b[38;5;241m.\u001b[39mtimestamp()\n",
      "File \u001b[1;32m~\\AppData\\Local\\Programs\\Python\\Python310\\lib\\shutil.py:811\u001b[0m, in \u001b[0;36mmove\u001b[1;34m(src, dst, copy_function)\u001b[0m\n\u001b[0;32m    808\u001b[0m     real_dst \u001b[38;5;241m=\u001b[39m os\u001b[38;5;241m.\u001b[39mpath\u001b[38;5;241m.\u001b[39mjoin(dst, _basename(src))\n\u001b[0;32m    810\u001b[0m     \u001b[38;5;28;01mif\u001b[39;00m os\u001b[38;5;241m.\u001b[39mpath\u001b[38;5;241m.\u001b[39mexists(real_dst):\n\u001b[1;32m--> 811\u001b[0m         \u001b[38;5;28;01mraise\u001b[39;00m Error(\u001b[38;5;124m\"\u001b[39m\u001b[38;5;124mDestination path \u001b[39m\u001b[38;5;124m'\u001b[39m\u001b[38;5;132;01m%s\u001b[39;00m\u001b[38;5;124m'\u001b[39m\u001b[38;5;124m already exists\u001b[39m\u001b[38;5;124m\"\u001b[39m \u001b[38;5;241m%\u001b[39m real_dst)\n\u001b[0;32m    812\u001b[0m \u001b[38;5;28;01mtry\u001b[39;00m:\n\u001b[0;32m    813\u001b[0m     os\u001b[38;5;241m.\u001b[39mrename(src, real_dst)\n",
      "\u001b[1;31mError\u001b[0m: Destination path 'C:/Users/romul/Repositories/datalumina-project-template/Template-Demo/data/5n1gg0ja.part' already exists"
     ]
    }
   ],
   "source": [
    "url_folder = 'https://drive.google.com/drive/folders/2NujfVRAGqoEx2L6qzQ6sTdD94f3jysum?usp=drive_link'\n",
    "folder  ='C:/Users/romul/Repositories/datalumina-project-template/Template-Demo/data/'\n",
    "gdown.download(url_folder, folder, quiet=False)"
   ]
  },
  {
   "cell_type": "code",
   "execution_count": null,
   "id": "2b0caf23",
   "metadata": {},
   "outputs": [],
   "source": [
    "url_folder = 'https://drive.google.com/drive/folders/1dyS-W6mdc79HNGeLva5_UJo424lWMH7H?usp=drive_link'\n",
    "folder  ='C:/Users/romul/Repositories/datalumina-project-template/Template-Demo/data/'\n",
    "gdown.download(url_folder, folder, quiet=False)"
   ]
  }
 ],
 "metadata": {
  "kernelspec": {
   "display_name": ".venv",
   "language": "python",
   "name": "python3"
  },
  "language_info": {
   "codemirror_mode": {
    "name": "ipython",
    "version": 3
   },
   "file_extension": ".py",
   "mimetype": "text/x-python",
   "name": "python",
   "nbconvert_exporter": "python",
   "pygments_lexer": "ipython3",
   "version": "3.10.4"
  }
 },
 "nbformat": 4,
 "nbformat_minor": 5
}
