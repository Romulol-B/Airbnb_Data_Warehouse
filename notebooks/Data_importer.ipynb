{
 "cells": [
  {
   "cell_type": "code",
   "execution_count": null,
   "id": "ce62e957",
   "metadata": {},
   "outputs": [
    {
     "name": "stdout",
     "output_type": "stream",
     "text": [
      "Requirement already satisfied: pandas in c:\\users\\romul\\repositories\\datalumina-project-template\\template-demo\\.venv\\lib\\site-packages (2.3.2)\n",
      "Requirement already satisfied: numpy>=1.22.4 in c:\\users\\romul\\repositories\\datalumina-project-template\\template-demo\\.venv\\lib\\site-packages (from pandas) (2.2.6)\n",
      "Requirement already satisfied: python-dateutil>=2.8.2 in c:\\users\\romul\\repositories\\datalumina-project-template\\template-demo\\.venv\\lib\\site-packages (from pandas) (2.9.0.post0)\n",
      "Requirement already satisfied: pytz>=2020.1 in c:\\users\\romul\\repositories\\datalumina-project-template\\template-demo\\.venv\\lib\\site-packages (from pandas) (2025.2)\n",
      "Requirement already satisfied: tzdata>=2022.7 in c:\\users\\romul\\repositories\\datalumina-project-template\\template-demo\\.venv\\lib\\site-packages (from pandas) (2025.2)\n",
      "Requirement already satisfied: six>=1.5 in c:\\users\\romul\\repositories\\datalumina-project-template\\template-demo\\.venv\\lib\\site-packages (from python-dateutil>=2.8.2->pandas) (1.17.0)\n",
      "Note: you may need to restart the kernel to use updated packages.\n",
      "Requirement already satisfied: numpy in c:\\users\\romul\\repositories\\datalumina-project-template\\template-demo\\.venv\\lib\\site-packages (2.2.6)\n",
      "Note: you may need to restart the kernel to use updated packages.\n",
      "Requirement already satisfied: wget in c:\\users\\romul\\repositories\\datalumina-project-template\\template-demo\\.venv\\lib\\site-packages (3.2)Note: you may need to restart the kernel to use updated packages.\n",
      "\n",
      "Requirement already satisfied: gunzip in c:\\users\\romul\\repositories\\datalumina-project-template\\template-demo\\.venv\\lib\\site-packages (0.1.10)\n",
      "Requirement already satisfied: microapp>=0.2.3 in c:\\users\\romul\\repositories\\datalumina-project-template\\template-demo\\.venv\\lib\\site-packages (from gunzip) (0.3.15)\n",
      "Note: you may need to restart the kernel to use updated packages.\n"
     ]
    }
   ],
   "source": [
    "%pip install pandas\n",
    "%pip install numpy \n",
    "%pip install wget\n",
    "%pip install gunzip\n",
    "%pip install os "
   ]
  },
  {
   "cell_type": "code",
   "execution_count": 5,
   "id": "a982d592",
   "metadata": {},
   "outputs": [],
   "source": [
    "import gunzip\n",
    "import os\n",
    "import wget\n",
    "import numpy as np\n",
    "import pandas as pd"
   ]
  },
  {
   "cell_type": "code",
   "execution_count": 6,
   "id": "af430372",
   "metadata": {},
   "outputs": [],
   "source": [
    "reviews =  pd.read_csv('C:/Users/romul/Repositories/datalumina-project-template/Template-Demo/data/raw/reviews.csv',encoding='latin1')"
   ]
  },
  {
   "cell_type": "code",
   "execution_count": 8,
   "id": "c3ad4a0a",
   "metadata": {},
   "outputs": [],
   "source": [
    "listings = pd.read_csv('C:/Users/romul/Repositories/datalumina-project-template/Template-Demo/data/raw/listings.csv')"
   ]
  },
  {
   "cell_type": "code",
   "execution_count": 21,
   "id": "57269680",
   "metadata": {},
   "outputs": [
    {
     "data": {
      "text/plain": [
       "array(['Abolição', 'Alto da Boa Vista', 'Anchieta', 'Andaraí', 'Anil',\n",
       "       'Bancários', 'Bangu', 'Barra da Tijuca', 'Barra de Guaratiba',\n",
       "       'Barros Filho', 'Benfica', 'Bento Ribeiro', 'Bonsucesso',\n",
       "       'Botafogo', 'Brás de Pina', 'Cachambi', 'Cacuia', 'Caju',\n",
       "       'Camorim', 'Campinho', 'Campo Grande', 'Cascadura', 'Catete',\n",
       "       'Catumbi', 'Cavalcanti', 'Centro', 'Cidade Nova',\n",
       "       'Cidade Universitária', 'Cidade de Deus', 'Cocotá', 'Coelho Neto',\n",
       "       'Colégio', 'Complexo do Alemão', 'Copacabana', 'Cordovil',\n",
       "       'Cosme Velho', 'Cosmos', 'Curicica', 'Del Castilho', 'Deodoro',\n",
       "       'Encantado', 'Engenheiro Leal', 'Engenho Novo',\n",
       "       'Engenho da Rainha', 'Engenho de Dentro', 'Estácio', 'Flamengo',\n",
       "       'Freguesia (Ilha)', 'Freguesia (Jacarepaguá)', 'Galeão', 'Gamboa',\n",
       "       'Gardênia Azul', 'Gericinó', 'Glória', 'Grajaú', 'Grumari',\n",
       "       'Guadalupe', 'Guaratiba', 'Gávea', 'Higienópolis',\n",
       "       'Honório Gurgel', 'Humaitá', 'Inhaúma', 'Inhoaíba', 'Ipanema',\n",
       "       'Irajá', 'Itanhangá', 'Jacarepaguá', 'Jacaré', 'Jardim América',\n",
       "       'Jardim Botânico', 'Jardim Carioca', 'Jardim Guanabara',\n",
       "       'Jardim Sulacap', 'Joá', 'Lagoa', 'Laranjeiras', 'Leblon', 'Leme',\n",
       "       'Lins de Vasconcelos', 'Madureira', 'Magalhães Bastos',\n",
       "       'Mangueira', 'Manguinhos', 'Maracanã', 'Marechal Hermes',\n",
       "       'Maria da Graça', 'Maré', 'Moneró', 'Méier', 'Olaria',\n",
       "       'Osvaldo Cruz', 'Paciência', 'Padre Miguel', 'Paquetá',\n",
       "       'Parada de Lucas', 'Parque Anchieta', 'Pavuna', 'Pechincha',\n",
       "       'Pedra de Guaratiba', 'Penha', 'Penha Circular', 'Piedade',\n",
       "       'Pilares', 'Pitangueiras', 'Portuguesa', 'Praia da Bandeira',\n",
       "       'Praça Seca', 'Praça da Bandeira', 'Quintino Bocaiúva', 'Ramos',\n",
       "       'Realengo', 'Recreio dos Bandeirantes', 'Riachuelo', 'Ribeira',\n",
       "       'Ricardo de Albuquerque', 'Rio Comprido', 'Rocha', 'Rocha Miranda',\n",
       "       'Rocinha', 'Sampaio', 'Santa Cruz', 'Santa Teresa', 'Santo Cristo',\n",
       "       'Santíssimo', 'Saúde', 'Senador Camará', 'Senador Vasconcelos',\n",
       "       'Sepetiba', 'São Conrado', 'São Cristóvão', 'São Francisco Xavier',\n",
       "       'Tanque', 'Taquara', 'Tauá', 'Tijuca', 'Todos os Santos',\n",
       "       'Tomás Coelho', 'Turiaçú', 'Urca', 'Vargem Grande',\n",
       "       'Vargem Pequena', 'Vasco da Gama', 'Vaz Lobo',\n",
       "       'Vicente de Carvalho', 'Vidigal', 'Vigário Geral', 'Vila Isabel',\n",
       "       'Vila Kosmos', 'Vila Militar', 'Vila Valqueire', 'Vila da Penha',\n",
       "       'Zumbi', 'Água Santa'], dtype=object)"
      ]
     },
     "execution_count": 21,
     "metadata": {},
     "output_type": "execute_result"
    }
   ],
   "source": [
    "a = listings['neighbourhood_cleansed'].unique()\n",
    "a.sort()\n",
    "a"
   ]
  },
  {
   "cell_type": "code",
   "execution_count": 3,
   "id": "5bda4894",
   "metadata": {},
   "outputs": [
    {
     "ename": "NameError",
     "evalue": "name 'reviews' is not defined",
     "output_type": "error",
     "traceback": [
      "\u001b[1;31m---------------------------------------------------------------------------\u001b[0m",
      "\u001b[1;31mNameError\u001b[0m                                 Traceback (most recent call last)",
      "Cell \u001b[1;32mIn[3], line 1\u001b[0m\n\u001b[1;32m----> 1\u001b[0m \u001b[43mreviews\u001b[49m\n",
      "\u001b[1;31mNameError\u001b[0m: name 'reviews' is not defined"
     ]
    }
   ],
   "source": [
    "reviews"
   ]
  },
  {
   "cell_type": "code",
   "execution_count": null,
   "id": "2ec50174",
   "metadata": {},
   "outputs": [],
   "source": []
  }
 ],
 "metadata": {
  "kernelspec": {
   "display_name": ".venv",
   "language": "python",
   "name": "python3"
  },
  "language_info": {
   "codemirror_mode": {
    "name": "ipython",
    "version": 3
   },
   "file_extension": ".py",
   "mimetype": "text/x-python",
   "name": "python",
   "nbconvert_exporter": "python",
   "pygments_lexer": "ipython3",
   "version": "3.10.4"
  }
 },
 "nbformat": 4,
 "nbformat_minor": 5
}
